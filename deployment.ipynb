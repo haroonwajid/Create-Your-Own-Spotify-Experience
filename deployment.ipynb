{
 "cells": [
  {
   "cell_type": "code",
   "execution_count": null,
   "id": "b2c18714",
   "metadata": {},
   "outputs": [],
   "source": [
    "from flask import Flask, render_template, request\n",
    "import os\n",
    "import subprocess\n",
    "\n",
    "app = Flask(__name__)\n",
    "\n",
    "# Define route to render index.html\n",
    "@app.route('/')\n",
    "def index():\n",
    "    return render_template('index.html')\n",
    "\n",
    "# Define route to handle form submission\n",
    "@app.route('/process_audio', methods=['POST'])\n",
    "def process_audio():\n",
    "    # Get file paths from form data\n",
    "    audio_file = request.files['audio_file']\n",
    "    file_path = os.path.join('uploads', audio_file.filename)\n",
    "    \n",
    "    # Save uploaded file\n",
    "    audio_file.save(file_path)\n",
    "    \n",
    "    # Call your Python script with subprocess\n",
    "    output = subprocess.check_output(['python', 'your_script.py', file_path])\n",
    "    \n",
    "    # Pass output to HTML template\n",
    "    return render_template('result.html', output=output.decode('utf-8'))\n",
    "\n",
    "if __name__ == '__main__':\n",
    "    app.run(debug=True)\n"
   ]
  }
 ],
 "metadata": {
  "kernelspec": {
   "display_name": "Python 3 (ipykernel)",
   "language": "python",
   "name": "python3"
  },
  "language_info": {
   "codemirror_mode": {
    "name": "ipython",
    "version": 3
   },
   "file_extension": ".py",
   "mimetype": "text/x-python",
   "name": "python",
   "nbconvert_exporter": "python",
   "pygments_lexer": "ipython3",
   "version": "3.9.13"
  }
 },
 "nbformat": 4,
 "nbformat_minor": 5
}
